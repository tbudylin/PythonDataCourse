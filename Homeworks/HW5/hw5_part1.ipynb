{
 "cells": [
  {
   "cell_type": "markdown",
   "metadata": {},
   "source": [
    "# Introduction to DataJoint\n",
    "\n",
    "Take a look at the documentation: https://docs.datajoint.io/python/index.html\n",
    "One part of the homework is reading the Concepts section.\n",
    "\n",
    "In this basic tutorial, we will go over these points:\n",
    "1. Starting your MySQL database\n",
    "2. Installing (a special version of) DataJoint"
   ]
  },
  {
   "cell_type": "markdown",
   "metadata": {},
   "source": [
    "# Starting your MySQL database\n",
    "\n",
    "There are various ways to install your MySQL database locally on your computer. The easiest way is using a Docker. We will be using this approach.\n",
    "\n",
    "Before you can deploy a docker image you need to install docker: \n",
    "https://docs.docker.com/get-docker/\n",
    "\n",
    "Once you have docker installed, you can download the docker image for a MySQL database. Clone this git repository to a folder you wish (I use my Documents folder generally):\n",
    "\n",
    "https://github.com/gucky92/mysql-docker\n",
    "\n",
    "After cloning the repository, navigate (via your Terminal) into the slim folder within the repository:\n",
    "\n",
    "```\n",
    "cd mysql-docker/slim\n",
    "```\n",
    "\n",
    "Then compose the docker image using this command:\n",
    "\n",
    "```\n",
    "sudo docker-compose up -d\n",
    "```\n",
    "\n",
    "The `-d` ensures that the docker image is run in the background. Otherwise it will run in your current Terminal session.\n",
    "\n",
    "Now your MySQL instance should be running locally on your computer. If you open the dashboard of your Docker Desktop, you should see something like this: \n",
    "\n",
    "![alt-text](static/docker_dashboard.png)\n",
    "\n",
    "\n",
    "### <font color='crimson'>I knew you were trouble</font>\n",
    "\n",
    "If you cannot get to this point please slack me and I will try to resolve your issue. On Tuesday, we will also be having a troubleshooting session, if people have problems running the MySQL instance on their computer. "
   ]
  },
  {
   "cell_type": "markdown",
   "metadata": {},
   "source": [
    "# Installing (a special version of) DataJoint\n",
    "\n",
    "We will be using a special version of DataJoint that has all the standard features of DataJoint, and simply has some additional useful features.\n",
    "\n",
    "### <font color='crimson'>Shake it off</font>\n",
    "\n",
    "If you have already installed datajoint previously, make sure to uninstall it beforehand (`pip uninstall`) or run this notebook in a conda environment where you have not yet installed datajoint (To create an enviroment type this command in the terminal: `conda create --name YOUR_ENVIRONMENT_NAME python=3.7 anaconda`). I recommend the second option! You can activate your environment in your terminal using `conda activate YOUR_ENVIRONMENT_NAME` and then start a jupyter notebook using `jupyter notebook` or `jupyter lab`. \n",
    "\n",
    "Now, I assume you have not yet installed datajoint. You can run the command cell below (you only need to do this once) or in your terminal you can type (if you are using conda environments make sure to activate your environment beforehand): \n",
    "\n",
    "```\n",
    "python -m pip install git+https://github.com/gucky92/datajoint-python.git\n",
    "```"
   ]
  },
  {
   "cell_type": "code",
   "execution_count": 1,
   "metadata": {},
   "outputs": [
    {
     "name": "stdout",
     "output_type": "stream",
     "text": [
      "Collecting git+https://github.com/gucky92/datajoint-python.git\n",
      "  Cloning https://github.com/gucky92/datajoint-python.git to /private/var/folders/dt/k3bdrw151hq747swhxh9rpvc0000gn/T/pip-req-build-r0e09_tc\n",
      "  Running command git clone -q https://github.com/gucky92/datajoint-python.git /private/var/folders/dt/k3bdrw151hq747swhxh9rpvc0000gn/T/pip-req-build-r0e09_tc\n",
      "Requirement already satisfied: numpy in /Users/matthias.christenson/.local/lib/python3.7/site-packages (from datajoint==0.12.5) (1.17.4)\n",
      "Requirement already satisfied: pymysql>=0.7.2 in /Users/matthias.christenson/.local/lib/python3.7/site-packages (from datajoint==0.12.5) (0.9.3)\n",
      "Requirement already satisfied: pyparsing in /Users/matthias.christenson/.local/lib/python3.7/site-packages (from datajoint==0.12.5) (2.4.5)\n",
      "Requirement already satisfied: ipython in /Users/matthias.christenson/.local/lib/python3.7/site-packages (from datajoint==0.12.5) (7.10.1)\n",
      "Requirement already satisfied: pandas in /Users/matthias.christenson/.local/lib/python3.7/site-packages (from datajoint==0.12.5) (0.25.3)\n",
      "Requirement already satisfied: tqdm in /Users/matthias.christenson/.local/lib/python3.7/site-packages (from datajoint==0.12.5) (4.40.2)\n",
      "Requirement already satisfied: networkx in /Users/matthias.christenson/.local/lib/python3.7/site-packages (from datajoint==0.12.5) (2.4)\n",
      "Requirement already satisfied: pydot in /Users/matthias.christenson/.local/lib/python3.7/site-packages (from datajoint==0.12.5) (1.4.1)\n",
      "Requirement already satisfied: minio in /Users/matthias.christenson/.local/lib/python3.7/site-packages (from datajoint==0.12.5) (5.0.5)\n",
      "Requirement already satisfied: matplotlib in /Users/matthias.christenson/.local/lib/python3.7/site-packages (from datajoint==0.12.5) (3.1.2)\n",
      "Requirement already satisfied: pexpect; sys_platform != \"win32\" in /Users/matthias.christenson/.local/lib/python3.7/site-packages (from ipython->datajoint==0.12.5) (4.7.0)\n",
      "Requirement already satisfied: traitlets>=4.2 in /Users/matthias.christenson/.local/lib/python3.7/site-packages (from ipython->datajoint==0.12.5) (4.3.3)\n",
      "Requirement already satisfied: pickleshare in /Users/matthias.christenson/.local/lib/python3.7/site-packages (from ipython->datajoint==0.12.5) (0.7.5)\n",
      "Requirement already satisfied: jedi>=0.10 in /Users/matthias.christenson/.local/lib/python3.7/site-packages (from ipython->datajoint==0.12.5) (0.15.1)\n",
      "Requirement already satisfied: decorator in /Users/matthias.christenson/.local/lib/python3.7/site-packages (from ipython->datajoint==0.12.5) (4.4.1)\n",
      "Requirement already satisfied: backcall in /Users/matthias.christenson/.local/lib/python3.7/site-packages (from ipython->datajoint==0.12.5) (0.1.0)\n",
      "Requirement already satisfied: appnope; sys_platform == \"darwin\" in /Users/matthias.christenson/.local/lib/python3.7/site-packages (from ipython->datajoint==0.12.5) (0.1.0)\n",
      "Requirement already satisfied: prompt-toolkit!=3.0.0,!=3.0.1,<3.1.0,>=2.0.0 in /Users/matthias.christenson/anaconda3/envs/course1/lib/python3.7/site-packages (from ipython->datajoint==0.12.5) (3.0.4)\n",
      "Requirement already satisfied: setuptools>=18.5 in /Users/matthias.christenson/anaconda3/envs/course1/lib/python3.7/site-packages (from ipython->datajoint==0.12.5) (46.1.3.post20200330)\n",
      "Requirement already satisfied: pygments in /Users/matthias.christenson/.local/lib/python3.7/site-packages (from ipython->datajoint==0.12.5) (2.5.2)\n",
      "Requirement already satisfied: python-dateutil>=2.6.1 in /Users/matthias.christenson/.local/lib/python3.7/site-packages (from pandas->datajoint==0.12.5) (2.8.1)\n",
      "Requirement already satisfied: pytz>=2017.2 in /Users/matthias.christenson/.local/lib/python3.7/site-packages (from pandas->datajoint==0.12.5) (2019.3)\n",
      "Requirement already satisfied: certifi in /Users/matthias.christenson/anaconda3/envs/course1/lib/python3.7/site-packages (from minio->datajoint==0.12.5) (2020.4.5.1)\n",
      "Requirement already satisfied: urllib3 in /Users/matthias.christenson/.local/lib/python3.7/site-packages (from minio->datajoint==0.12.5) (1.25.7)\n",
      "Requirement already satisfied: kiwisolver>=1.0.1 in /Users/matthias.christenson/.local/lib/python3.7/site-packages (from matplotlib->datajoint==0.12.5) (1.1.0)\n",
      "Requirement already satisfied: cycler>=0.10 in /Users/matthias.christenson/.local/lib/python3.7/site-packages (from matplotlib->datajoint==0.12.5) (0.10.0)\n",
      "Requirement already satisfied: ptyprocess>=0.5 in /Users/matthias.christenson/.local/lib/python3.7/site-packages (from pexpect; sys_platform != \"win32\"->ipython->datajoint==0.12.5) (0.6.0)\n",
      "Requirement already satisfied: ipython-genutils in /Users/matthias.christenson/.local/lib/python3.7/site-packages (from traitlets>=4.2->ipython->datajoint==0.12.5) (0.2.0)\n",
      "Requirement already satisfied: six in /Users/matthias.christenson/.local/lib/python3.7/site-packages (from traitlets>=4.2->ipython->datajoint==0.12.5) (1.13.0)\n",
      "Requirement already satisfied: parso>=0.5.0 in /Users/matthias.christenson/.local/lib/python3.7/site-packages (from jedi>=0.10->ipython->datajoint==0.12.5) (0.5.1)\n",
      "Requirement already satisfied: wcwidth in /Users/matthias.christenson/.local/lib/python3.7/site-packages (from prompt-toolkit!=3.0.0,!=3.0.1,<3.1.0,>=2.0.0->ipython->datajoint==0.12.5) (0.1.7)\n",
      "Building wheels for collected packages: datajoint\n",
      "  Building wheel for datajoint (setup.py) ... \u001b[?25ldone\n",
      "\u001b[?25h  Created wheel for datajoint: filename=datajoint-0.12.5-py3-none-any.whl size=104326 sha256=3ed817dd9c43f24fdb6b39f1e9fd0b2d51b294335ee7fb3aa9bc7cd0544270c8\n",
      "  Stored in directory: /private/var/folders/dt/k3bdrw151hq747swhxh9rpvc0000gn/T/pip-ephem-wheel-cache-m154roou/wheels/ed/04/fc/404f1ed852d8f1edd0aa120c525339045afa7d676064d06dc0\n",
      "Successfully built datajoint\n",
      "Installing collected packages: datajoint\n",
      "Successfully installed datajoint-0.12.5\n"
     ]
    }
   ],
   "source": [
    "# Install a pip package in the current Jupyter kernel\n",
    "import sys\n",
    "!{sys.executable} -m pip install git+https://github.com/gucky92/datajoint-python.git"
   ]
  },
  {
   "cell_type": "markdown",
   "metadata": {},
   "source": [
    "## Look at what you made me do\n",
    "\n",
    "You are now done with part 1 of homework 5. As a final check you can try to import datajoint. In part 2, we will go through building your first table in the database and populating it with entries. "
   ]
  },
  {
   "cell_type": "code",
   "execution_count": 1,
   "metadata": {},
   "outputs": [],
   "source": [
    "import datajoint"
   ]
  }
 ],
 "metadata": {
  "kernelspec": {
   "display_name": "Python 3",
   "language": "python",
   "name": "python3"
  },
  "language_info": {
   "codemirror_mode": {
    "name": "ipython",
    "version": 3
   },
   "file_extension": ".py",
   "mimetype": "text/x-python",
   "name": "python",
   "nbconvert_exporter": "python",
   "pygments_lexer": "ipython3",
   "version": "3.7.7"
  }
 },
 "nbformat": 4,
 "nbformat_minor": 4
}
