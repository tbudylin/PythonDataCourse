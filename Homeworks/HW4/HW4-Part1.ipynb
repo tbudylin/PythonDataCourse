{
 "cells": [
  {
   "cell_type": "markdown",
   "metadata": {},
   "source": [
    "# HW4 Part 1 - Review of Python Classes\n",
    "\n",
    "April 21, 2020\n",
    "\n",
    "The following is meant to be a brief review of classes in Python. If you feel comfortable with building and manipulating classes in Python, feel free to skim this part"
   ]
  },
  {
   "cell_type": "code",
   "execution_count": 199,
   "metadata": {},
   "outputs": [],
   "source": [
    "import numpy as np\n",
    "import matplotlib.pyplot as plt\n",
    "import pandas as pd"
   ]
  },
  {
   "cell_type": "markdown",
   "metadata": {},
   "source": [
    "## 1a) Create a class \"`Dog`\" with an `__init__` function that takes in the variable `name`"
   ]
  },
  {
   "cell_type": "code",
   "execution_count": 2,
   "metadata": {},
   "outputs": [],
   "source": [
    "class Dog:\n",
    "\n",
    "    def __init__(self, name):\n",
    "        self.name=name\n",
    "        # assign 'name' to self here as a data attribute"
   ]
  },
  {
   "cell_type": "code",
   "execution_count": 3,
   "metadata": {},
   "outputs": [],
   "source": [
    "mydog = Dog('Jojo')"
   ]
  },
  {
   "cell_type": "code",
   "execution_count": 4,
   "metadata": {},
   "outputs": [
    {
     "data": {
      "text/plain": [
       "'Jojo'"
      ]
     },
     "execution_count": 4,
     "metadata": {},
     "output_type": "execute_result"
    }
   ],
   "source": [
    "mydog.name"
   ]
  },
  {
   "cell_type": "markdown",
   "metadata": {},
   "source": [
    "# 1b) Add a method to this class `add_trick` that takes in a variable `trick`\n",
    "Keep in mind that a Dog might learn many tricks - you might keep track of the tricks it learns in a list"
   ]
  },
  {
   "cell_type": "code",
   "execution_count": 177,
   "metadata": {},
   "outputs": [],
   "source": [
    "class Dog:\n",
    "\n",
    "    def __init__(self, name): \n",
    "        # your code here\n",
    "        self.name=name\n",
    "        self.bag_of_tricks=[]\n",
    "    def add_trick(self,trick): # this is a method attribute\n",
    "        # your code here\n",
    "        \n",
    "        self.bag_of_tricks.append(trick)\n",
    "\n",
    "    def print_tricks(self):\n",
    "        print(self.bag_of_tricks)"
   ]
  },
  {
   "cell_type": "code",
   "execution_count": 178,
   "metadata": {},
   "outputs": [
    {
     "name": "stdout",
     "output_type": "stream",
     "text": [
      "['roll over', 'play dead', 'flippy flip']\n"
     ]
    }
   ],
   "source": [
    "# test your code\n",
    "mydog = Dog('Jojo')\n",
    "mydog.add_trick('roll over')\n",
    "mydog.add_trick('play dead')\n",
    "mydog.add_trick('flippy flip')\n",
    "\n",
    "# print the tricks here\n",
    "mydog.print_tricks()### complete here"
   ]
  },
  {
   "cell_type": "markdown",
   "metadata": {},
   "source": [
    "## 1c) Modify the class so that it keeps track of the dog's age, gender and species\n",
    "Would these be better as a data attributes or as a method attributes?"
   ]
  },
  {
   "cell_type": "code",
   "execution_count": 180,
   "metadata": {},
   "outputs": [],
   "source": [
    "class Dog:\n",
    "\n",
    "    def __init__(self, name, age, gender, species): \n",
    "        # your code here\n",
    "        self.name=name\n",
    "        self.bag_of_tricks=[]\n",
    "        self.age=age\n",
    "        self.gender=gender\n",
    "        self.species=species\n",
    "    def add_trick(self,trick): # this is a method attribute\n",
    "        # your code here\n",
    "        \n",
    "        self.bag_of_tricks.append(trick)\n",
    "\n",
    "    def print_tricks(self):\n",
    "        print(self.bag_of_tricks)"
   ]
  },
  {
   "cell_type": "markdown",
   "metadata": {},
   "source": [
    "## 1d) Create 3 dogs with various characteristics, and assign them different tricks"
   ]
  },
  {
   "cell_type": "code",
   "execution_count": 182,
   "metadata": {},
   "outputs": [],
   "source": [
    "Jase=Dog('Jase', 6, 'm', 'chihuahua')\n",
    "Riley=Dog('Riley', 5, 'm', 'husky')\n",
    "Rosie=Dog('Rosie', 6, 'f', 'pitbull')\n",
    "\n",
    "Jase.add_trick('sit')\n",
    "Jase.add_trick('stand')\n",
    "Riley.add_trick('stay')\n",
    "Riley.add_trick('sit')\n",
    "Rosie.add_trick('sit')\n",
    "Rosie.add_trick('stop')"
   ]
  },
  {
   "cell_type": "markdown",
   "metadata": {},
   "source": [
    "## 1e) Create a method/function `print_summary` for the Dog class that prints all the relevant data and tricks"
   ]
  },
  {
   "cell_type": "code",
   "execution_count": 217,
   "metadata": {},
   "outputs": [],
   "source": [
    "class Dog:\n",
    "\n",
    "    def __init__(self, name, age, gender, species): \n",
    "        # your code here\n",
    "        self.name=name\n",
    "        self.bag_of_tricks=[]\n",
    "        self.age=age\n",
    "        self.gender=gender\n",
    "        self.species=species\n",
    "        self.dataframedog={}\n",
    "    def add_trick(self,trick): # this is a method attribute\n",
    "        # your code here\n",
    "        \n",
    "        self.bag_of_tricks.append(trick)\n",
    "\n",
    "    def print_tricks(self):\n",
    "        print(self.bag_of_tricks)\n",
    "    def print_summary(self):\n",
    "        print(self.name, self.bag_of_tricks, self.age, self.gender, self.species)\n",
    "    def return_df(self):\n",
    "        self.dataframedog=pd.DataFrame({'name':self.name, 'tricks':self.bag_of_tricks, 'age':self.age, 'gender':self.gender, 'species':self.species})\n",
    "        return self.dataframedog"
   ]
  },
  {
   "cell_type": "code",
   "execution_count": 218,
   "metadata": {},
   "outputs": [
    {
     "name": "stdout",
     "output_type": "stream",
     "text": [
      "Jase ['sit', 'stand'] 6 m chihuahua\n",
      "Riley ['stay', 'sit'] 5 m husky\n",
      "Rosie ['sit', 'stop'] 6 f pitbull\n"
     ]
    }
   ],
   "source": [
    "# create 3 dogs again with your new/modified class and \n",
    "Jase=Dog('Jase', 6, 'm', 'chihuahua')\n",
    "Riley=Dog('Riley', 5, 'm', 'husky')\n",
    "Rosie=Dog('Rosie', 6, 'f', 'pitbull')\n",
    "\n",
    "Jase.add_trick('sit')\n",
    "Jase.add_trick('stand')\n",
    "Riley.add_trick('stay')\n",
    "Riley.add_trick('sit')\n",
    "Rosie.add_trick('sit')\n",
    "Rosie.add_trick('stop')\n",
    "dogs=[Jase, Riley, Rosie]\n",
    "for d in dogs:\n",
    "    d.print_summary() "
   ]
  },
  {
   "cell_type": "markdown",
   "metadata": {},
   "source": [
    "## 1f) Finally, create a function/method that returns a pandas dataframe of the dog's name, age, gender species and tricks"
   ]
  },
  {
   "cell_type": "markdown",
   "metadata": {},
   "source": [
    "This code should run. What do you notice about having multiple tricks?"
   ]
  },
  {
   "cell_type": "code",
   "execution_count": 219,
   "metadata": {},
   "outputs": [
    {
     "data": {
      "text/html": [
       "<div>\n",
       "<style scoped>\n",
       "    .dataframe tbody tr th:only-of-type {\n",
       "        vertical-align: middle;\n",
       "    }\n",
       "\n",
       "    .dataframe tbody tr th {\n",
       "        vertical-align: top;\n",
       "    }\n",
       "\n",
       "    .dataframe thead th {\n",
       "        text-align: right;\n",
       "    }\n",
       "</style>\n",
       "<table border=\"1\" class=\"dataframe\">\n",
       "  <thead>\n",
       "    <tr style=\"text-align: right;\">\n",
       "      <th></th>\n",
       "      <th>name</th>\n",
       "      <th>tricks</th>\n",
       "      <th>age</th>\n",
       "      <th>gender</th>\n",
       "      <th>species</th>\n",
       "    </tr>\n",
       "  </thead>\n",
       "  <tbody>\n",
       "    <tr>\n",
       "      <th>0</th>\n",
       "      <td>Jojo</td>\n",
       "      <td>roll over</td>\n",
       "      <td>12</td>\n",
       "      <td>M</td>\n",
       "      <td>collie</td>\n",
       "    </tr>\n",
       "    <tr>\n",
       "      <th>1</th>\n",
       "      <td>Jojo</td>\n",
       "      <td>flippy flip</td>\n",
       "      <td>12</td>\n",
       "      <td>M</td>\n",
       "      <td>collie</td>\n",
       "    </tr>\n",
       "  </tbody>\n",
       "</table>\n",
       "</div>"
      ],
      "text/plain": [
       "   name       tricks  age gender species\n",
       "0  Jojo    roll over   12      M  collie\n",
       "1  Jojo  flippy flip   12      M  collie"
      ]
     },
     "execution_count": 219,
     "metadata": {},
     "output_type": "execute_result"
    }
   ],
   "source": [
    "jojo = Dog(name='Jojo',age=12,gender='M',species='collie')\n",
    "\n",
    "jojo.add_trick('roll over')\n",
    "jojo.add_trick('flippy flip')\n",
    "\n",
    "df = jojo.return_df()\n",
    "\n",
    "df.head()"
   ]
  },
  {
   "cell_type": "code",
   "execution_count": 216,
   "metadata": {},
   "outputs": [
    {
     "data": {
      "text/plain": [
       "NoneType"
      ]
     },
     "execution_count": 216,
     "metadata": {},
     "output_type": "execute_result"
    }
   ],
   "source": [
    "type(df)"
   ]
  }
 ],
 "metadata": {
  "kernelspec": {
   "display_name": "Python 3",
   "language": "python",
   "name": "python3"
  },
  "language_info": {
   "codemirror_mode": {
    "name": "ipython",
    "version": 3
   },
   "file_extension": ".py",
   "mimetype": "text/x-python",
   "name": "python",
   "nbconvert_exporter": "python",
   "pygments_lexer": "ipython3",
   "version": "3.7.6"
  }
 },
 "nbformat": 4,
 "nbformat_minor": 2
}
