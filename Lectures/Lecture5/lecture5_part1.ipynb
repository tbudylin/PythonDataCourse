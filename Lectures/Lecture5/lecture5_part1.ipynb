{
 "cells": [
  {
   "cell_type": "markdown",
   "metadata": {
    "slideshow": {
     "slide_type": "slide"
    }
   },
   "source": [
    "# HW4 Review of Python Classes\n",
    "\n",
    "(also see: https://realpython.com/python3-object-oriented-programming/#how-to-define-a-class-in-python)\n",
    "\n",
    "The following is meant to be a brief review of classes in Python. If you feel comfortable with building and manipulating classes in Python, feel free to skim this part"
   ]
  },
  {
   "cell_type": "markdown",
   "metadata": {
    "slideshow": {
     "slide_type": "subslide"
    }
   },
   "source": [
    "## Other python tricks that will be touched upon in our review\n",
    "\n",
    "* using decorators (see https://realpython.com/primer-on-python-decorators/)\n",
    "* built-in \"magic\" methods for classes (see https://rszalski.github.io/magicmethods/)\n",
    "\n",
    "## Other things not mentioned, but that are also useful to know\n",
    "* lambda functions (see https://realpython.com/python-lambda/)\n",
    "* abstract base classes (see https://pymotw.com/2/abc/)\n",
    "* async (https://realpython.com/async-io-python/)\n",
    "* multiple inheritance/mixin classes (see https://realpython.com/inheritance-composition-python/)"
   ]
  },
  {
   "cell_type": "code",
   "execution_count": 1,
   "metadata": {
    "slideshow": {
     "slide_type": "notes"
    }
   },
   "outputs": [],
   "source": [
    "import numpy as np\n",
    "import matplotlib.pyplot as plt\n",
    "import pandas as pd"
   ]
  },
  {
   "cell_type": "markdown",
   "metadata": {
    "slideshow": {
     "slide_type": "slide"
    }
   },
   "source": [
    "### 1a) Create a class \"`Dog`\" with an `__init__` function that takes in the variable `name`"
   ]
  },
  {
   "cell_type": "code",
   "execution_count": 2,
   "metadata": {
    "slideshow": {
     "slide_type": "subslide"
    }
   },
   "outputs": [
    {
     "name": "stdout",
     "output_type": "stream",
     "text": [
      "Jojo\n"
     ]
    }
   ],
   "source": [
    "class Dog:\n",
    "\n",
    "    def __init__(self, name):\n",
    "        self.name = name\n",
    "        \n",
    "mydog = Dog('Jojo')\n",
    "print(mydog.name)"
   ]
  },
  {
   "cell_type": "markdown",
   "metadata": {
    "slideshow": {
     "slide_type": "slide"
    }
   },
   "source": [
    "### 1b) Add a method to this class `add_trick` that takes in a variable `trick`\n",
    "Keep in mind that a Dog might learn many tricks - you might keep track of the tricks it learns in a list"
   ]
  },
  {
   "cell_type": "code",
   "execution_count": 3,
   "metadata": {
    "slideshow": {
     "slide_type": "fragment"
    }
   },
   "outputs": [
    {
     "name": "stdout",
     "output_type": "stream",
     "text": [
      "['roll over', 'play dead', 'flippy flip']\n"
     ]
    }
   ],
   "source": [
    "class Dog:\n",
    "\n",
    "    def __init__(self, name): \n",
    "        self.name = name\n",
    "        self.tricks = []\n",
    "        \n",
    "    def add_trick(self, trick):\n",
    "        self.tricks.append(trick)\n",
    "        \n",
    "# test your code\n",
    "mydog = Dog('Jojo')\n",
    "mydog.add_trick('roll over')\n",
    "mydog.add_trick('play dead')\n",
    "mydog.add_trick('flippy flip')\n",
    "\n",
    "print(mydog.tricks)"
   ]
  },
  {
   "cell_type": "markdown",
   "metadata": {
    "slideshow": {
     "slide_type": "slide"
    }
   },
   "source": [
    "### 1c) Modify the class so that it keeps track of the dog's age, gender and species\n",
    "Would these be better as a data attributes or as a method attributes?"
   ]
  },
  {
   "cell_type": "code",
   "execution_count": 9,
   "metadata": {
    "slideshow": {
     "slide_type": "subslide"
    }
   },
   "outputs": [
    {
     "name": "stdout",
     "output_type": "stream",
     "text": [
      "mammal\n",
      "mammal\n"
     ]
    }
   ],
   "source": [
    "class Dog:\n",
    "    \n",
    "    species = 'mammal'\n",
    "\n",
    "    def __init__(self, name, age, gender): \n",
    "        \n",
    "        # example of checking types for arguments passed\n",
    "        # do not use type(name) == str, \n",
    "        # but the isinstance method works with inheritance\n",
    "        assert isinstance(name, str), 'name is not string.'\n",
    "        assert isinstance(age, (int, float))\n",
    "        assert gender in ('m', 'f', 'o')\n",
    "        \n",
    "        self.name = name\n",
    "        self.age = age\n",
    "        self.gender = gender\n",
    "        self.tricks = []\n",
    "        \n",
    "    def add_trick(self, trick):\n",
    "        self.tricks.append(trick)\n",
    "        \n",
    "    def update_age(self, age):\n",
    "        self.age = age\n",
    "        \n",
    "mydog = Dog(name='Jojo', age=5, gender='m')\n",
    "# just so you can see that species is assigned at the class level\n",
    "print(Dog.species)\n",
    "print(mydog.species)\n",
    "# update age\n",
    "mydog.update_age(6)\n",
    "# however one can also update the attribute age like this\n",
    "mydog.age = 6"
   ]
  },
  {
   "cell_type": "markdown",
   "metadata": {
    "slideshow": {
     "slide_type": "slide"
    }
   },
   "source": [
    "### <font color=crimson>Achtung!</font>\n",
    "Attributes can be directly reassigned for a class! Sometimes we want to prevent this behavior, since reassignment will not go through the checks we wrote in the init. E.g. this will work with our class:"
   ]
  },
  {
   "cell_type": "code",
   "execution_count": 5,
   "metadata": {
    "slideshow": {
     "slide_type": "subslide"
    }
   },
   "outputs": [
    {
     "name": "stdout",
     "output_type": "stream",
     "text": [
      "gender:  blub\n",
      "{'name': 'Jojo', 'age': 6, 'gender': 'blub', 'tricks': []}\n"
     ]
    }
   ],
   "source": [
    "mydog.gender = 'blub'\n",
    "print('gender: ', mydog.gender)\n",
    "# this prints the attributes the class contains in a dictionary format\n",
    "print(mydog.__dict__)"
   ]
  },
  {
   "cell_type": "markdown",
   "metadata": {
    "slideshow": {
     "slide_type": "slide"
    }
   },
   "source": [
    "# <font color=green>1. Umweg</font>: Decorators\n",
    "\n",
    "* What are decorators?\n",
    "* How can I use them?\n",
    "* Give me examples!"
   ]
  },
  {
   "cell_type": "markdown",
   "metadata": {},
   "source": [
    "## What are decorators?\n",
    "\n",
    "A decorator takes in a function (it can also be a class or a method of a class) and adds some functionality and returns the function. Think of it as a wrapper around your function.\n",
    "\n",
    "This is also called metaprogramming as a part of the program tries to modify another part of the program at compile time."
   ]
  },
  {
   "cell_type": "markdown",
   "metadata": {},
   "source": [
    "## How can I use decorators?\n",
    "\n",
    "There are various built-in decorators in Python such as, property, staticmethod, classmethod and the module functools has some decorators as well. You can also built your own decorators.\n",
    "\n",
    "<font size=1>NB: If you are using Python 3.8, you can also use a decorator called dataclass (it's pretty cool; take a look: https://docs.python.org/3/library/dataclasses.html). For the class, we are making all code Python 3.6 compatible, so we will not be showing how to use the dataclass decorator. </font>"
   ]
  },
  {
   "cell_type": "markdown",
   "metadata": {},
   "source": [
    "## Give me examples!"
   ]
  },
  {
   "cell_type": "code",
   "execution_count": 4,
   "metadata": {},
   "outputs": [
    {
     "name": "stdout",
     "output_type": "stream",
     "text": [
      "here\n",
      "a\n"
     ]
    }
   ],
   "source": [
    "try:\n",
    "    1/0\n",
    "except ZeroDivisionError:\n",
    "    print('here')\n",
    "print('a')"
   ]
  },
  {
   "cell_type": "code",
   "execution_count": 6,
   "metadata": {},
   "outputs": [
    {
     "name": "stdout",
     "output_type": "stream",
     "text": [
      "('a', 'b', 'c')\n",
      "a b c\n"
     ]
    }
   ],
   "source": [
    "def print_anything(*args):\n",
    "    print(args)\n",
    "    print(*args)\n",
    "    \n",
    "print_anything('a', 'b', 'c')"
   ]
  },
  {
   "cell_type": "code",
   "execution_count": 10,
   "metadata": {},
   "outputs": [
    {
     "name": "stdout",
     "output_type": "stream",
     "text": [
      "{'a': 'as', 'b': 'sadflkj', 'asdflkj': 'asdfk', 'sdaf': 1, 'daf': <class '__main__.Dog'>}\n",
      "a as\n",
      "b sadflkj\n",
      "asdflkj asdfk\n",
      "sdaf 1\n",
      "daf <class '__main__.Dog'>\n"
     ]
    }
   ],
   "source": [
    "def print_kwargs(**kwargs):\n",
    "    print(kwargs)\n",
    "    for key, value in kwargs.items():\n",
    "        print(key, value)\n",
    "        \n",
    "print_kwargs(a='as', b='sadflkj', asdflkj='asdfk', sdaf=1, daf=Dog)"
   ]
  },
  {
   "cell_type": "code",
   "execution_count": 1,
   "metadata": {},
   "outputs": [
    {
     "name": "stdout",
     "output_type": "stream",
     "text": [
      "An error was raised:  division by zero\n",
      "Whoops! cannot divide\n",
      "None\n",
      "Examples with no division error:\n",
      "2.0\n",
      "No division error!\n",
      "2.0\n"
     ]
    }
   ],
   "source": [
    "def smart_divide(func):\n",
    "    # function will accept any arguments\n",
    "    # *args is a tuple of positional arguments\n",
    "    # **kwargs is a dictionary of keyword arguments\n",
    "    def inner(*args, **kwargs):\n",
    "        try:\n",
    "            output = func(*args, **kwargs)\n",
    "            print(\"No division error!\")\n",
    "            return output\n",
    "        # catch ZeroDivisionError\n",
    "        except ZeroDivisionError as e:\n",
    "            print(\"Whoops! cannot divide\")\n",
    "            return\n",
    "    return inner\n",
    "\n",
    "@smart_divide\n",
    "def divide(a, b):\n",
    "    \n",
    "    return a/b\n",
    "\n",
    "def dumb_divide(a, b):\n",
    "    return a/b\n",
    "\n",
    "try:\n",
    "    print(dumb_divide(1, 0))\n",
    "except ZeroDivisionError as e:\n",
    "    print('An error was raised: ', e)\n",
    "# error is caught in decorator\n",
    "print(divide(1, 0))\n",
    "\n",
    "print('Examples with no division error:')\n",
    "# no change when there is no error\n",
    "print(dumb_divide(2, 1))\n",
    "print(divide(2, 1))"
   ]
  },
  {
   "cell_type": "markdown",
   "metadata": {},
   "source": [
    "## Examples of using decorators within a class (built-in)"
   ]
  },
  {
   "cell_type": "code",
   "execution_count": 14,
   "metadata": {},
   "outputs": [],
   "source": [
    "import pickle  # a module to serialize any python object\n",
    "# more: https://www.geeksforgeeks.org/understanding-python-pickling-example/\n",
    "\n",
    "# these are examples of built-in decorators in Python\n",
    "# here is some documentation on built-in function in Python:\n",
    "# https://docs.python.org/3/library/functions.html\n",
    "\n",
    "class Test:\n",
    "    \n",
    "    def __init__(self, a, b):\n",
    "        self._a = a\n",
    "        self._b = b\n",
    "        \n",
    "    @property\n",
    "    def a(self):\n",
    "        return self._a\n",
    "    \n",
    "    @property\n",
    "    def b(self):\n",
    "        return 'b={}'.format(self._b)\n",
    "    \n",
    "    def a_not_decorated(self):\n",
    "        return self._a\n",
    "    \n",
    "    def save(self, filename):\n",
    "        with open(filename, 'wb') as f:\n",
    "            pickle.dump(self.__dict__, f)\n",
    "    \n",
    "    @classmethod\n",
    "    def load(cls, filename):\n",
    "        with open(filename, 'rb') as f:\n",
    "            data = pickle.load(f)\n",
    "            print(data)\n",
    "        return cls(a=data['_a'], b=data['_b'])\n",
    "    \n",
    "    def load_not_class(self, filename):\n",
    "        with open(filename, 'rb') as f:\n",
    "            data = pickle.load(f)\n",
    "        # reinitializing here! this doesn't make sense\n",
    "        return self.__class__(a=data['_a'], b=data['_b'])"
   ]
  },
  {
   "cell_type": "code",
   "execution_count": 16,
   "metadata": {},
   "outputs": [
    {
     "data": {
      "text/plain": [
       "['__class__',\n",
       " '__delattr__',\n",
       " '__dict__',\n",
       " '__dir__',\n",
       " '__doc__',\n",
       " '__eq__',\n",
       " '__format__',\n",
       " '__ge__',\n",
       " '__getattribute__',\n",
       " '__gt__',\n",
       " '__hash__',\n",
       " '__init__',\n",
       " '__init_subclass__',\n",
       " '__le__',\n",
       " '__lt__',\n",
       " '__module__',\n",
       " '__ne__',\n",
       " '__new__',\n",
       " '__reduce__',\n",
       " '__reduce_ex__',\n",
       " '__repr__',\n",
       " '__setattr__',\n",
       " '__sizeof__',\n",
       " '__str__',\n",
       " '__subclasshook__',\n",
       " '__weakref__',\n",
       " 'a',\n",
       " 'a_not_decorated',\n",
       " 'b',\n",
       " 'load',\n",
       " 'load_not_class',\n",
       " 'save']"
      ]
     },
     "execution_count": 16,
     "metadata": {},
     "output_type": "execute_result"
    }
   ],
   "source": [
    "dir(Test)"
   ]
  },
  {
   "cell_type": "code",
   "execution_count": 15,
   "metadata": {},
   "outputs": [
    {
     "name": "stdout",
     "output_type": "stream",
     "text": [
      "1\n",
      "b=2\n",
      "<bound method Test.a_not_decorated of <__main__.Test object at 0x105ebd490>>\n",
      "1\n",
      "loaded instance\n",
      "{'_a': 1, '_b': 2}\n",
      "1\n",
      "b=2\n"
     ]
    }
   ],
   "source": [
    "test = Test(a=1, b=2)\n",
    "\n",
    "print(test.a)\n",
    "print(test.b)\n",
    "print(test.a_not_decorated)\n",
    "print(test.a_not_decorated())\n",
    "test.save('test.txt')\n",
    "\n",
    "print('loaded instance')\n",
    "test_loaded = Test.load('test.txt')\n",
    "# this still works but i initialize the class \n",
    "# and then after loading i initialize it anew\n",
    "test_loaded2 = Test(a=1, b=2).load_not_class('test.txt')\n",
    "print(test_loaded.a)\n",
    "print(test_loaded.b)"
   ]
  },
  {
   "cell_type": "code",
   "execution_count": 13,
   "metadata": {},
   "outputs": [
    {
     "ename": "AttributeError",
     "evalue": "can't set attribute",
     "output_type": "error",
     "traceback": [
      "\u001b[0;31m---------------------------------------------------------------------------\u001b[0m",
      "\u001b[0;31mAttributeError\u001b[0m                            Traceback (most recent call last)",
      "\u001b[0;32m<ipython-input-13-011215e55771>\u001b[0m in \u001b[0;36m<module>\u001b[0;34m\u001b[0m\n\u001b[0;32m----> 1\u001b[0;31m \u001b[0mtest\u001b[0m\u001b[0;34m.\u001b[0m\u001b[0ma\u001b[0m \u001b[0;34m=\u001b[0m \u001b[0;34m'new object'\u001b[0m\u001b[0;34m\u001b[0m\u001b[0;34m\u001b[0m\u001b[0m\n\u001b[0m",
      "\u001b[0;31mAttributeError\u001b[0m: can't set attribute"
     ]
    }
   ],
   "source": [
    "test.a = 'new object'"
   ]
  },
  {
   "cell_type": "code",
   "execution_count": 17,
   "metadata": {},
   "outputs": [],
   "source": [
    "# setter decorators\n",
    "\n",
    "class Test:\n",
    "    \n",
    "    def __init__(self, a, b):\n",
    "        assert isinstance(a, (int, float)), 'must be float or int'\n",
    "        self._a = a\n",
    "        self._b = b\n",
    "        \n",
    "    @property\n",
    "    def a(self):\n",
    "        return self._a\n",
    "    \n",
    "    @a.setter\n",
    "    def a(self, value):\n",
    "        assert isinstance(value, (int, float)), 'must be float or int'\n",
    "        self._a = value\n",
    "    \n",
    "    @property\n",
    "    def b(self):\n",
    "        return 'b={}'.format(self._b)\n",
    "    \n",
    "    def save(self, filename):\n",
    "        with open(filename, 'wb') as f:\n",
    "            pickle.dump(self.__dict__, f)\n",
    "    \n",
    "    @classmethod\n",
    "    def load(cls, filename):\n",
    "        with open(filename, 'rb') as f:\n",
    "            data = pickle.load(f)\n",
    "        return cls(a=data['_a'], b=data['_b'])"
   ]
  },
  {
   "cell_type": "code",
   "execution_count": 18,
   "metadata": {},
   "outputs": [
    {
     "name": "stdout",
     "output_type": "stream",
     "text": [
      "1\n",
      "b=asdf\n"
     ]
    },
    {
     "ename": "AssertionError",
     "evalue": "must be float or int",
     "output_type": "error",
     "traceback": [
      "\u001b[0;31m---------------------------------------------------------------------------\u001b[0m",
      "\u001b[0;31mAssertionError\u001b[0m                            Traceback (most recent call last)",
      "\u001b[0;32m<ipython-input-18-fe2e59dc787f>\u001b[0m in \u001b[0;36m<module>\u001b[0;34m\u001b[0m\n\u001b[1;32m      4\u001b[0m \u001b[0mprint\u001b[0m\u001b[0;34m(\u001b[0m\u001b[0mtest2\u001b[0m\u001b[0;34m.\u001b[0m\u001b[0mb\u001b[0m\u001b[0;34m)\u001b[0m\u001b[0;34m\u001b[0m\u001b[0;34m\u001b[0m\u001b[0m\n\u001b[1;32m      5\u001b[0m \u001b[0;34m\u001b[0m\u001b[0m\n\u001b[0;32m----> 6\u001b[0;31m \u001b[0mtest2\u001b[0m\u001b[0;34m.\u001b[0m\u001b[0ma\u001b[0m \u001b[0;34m=\u001b[0m \u001b[0;34m'asdf'\u001b[0m\u001b[0;34m\u001b[0m\u001b[0;34m\u001b[0m\u001b[0m\n\u001b[0m",
      "\u001b[0;32m<ipython-input-17-b6c316c2c8e7>\u001b[0m in \u001b[0;36ma\u001b[0;34m(self, value)\u001b[0m\n\u001b[1;32m     14\u001b[0m     \u001b[0;34m@\u001b[0m\u001b[0ma\u001b[0m\u001b[0;34m.\u001b[0m\u001b[0msetter\u001b[0m\u001b[0;34m\u001b[0m\u001b[0;34m\u001b[0m\u001b[0m\n\u001b[1;32m     15\u001b[0m     \u001b[0;32mdef\u001b[0m \u001b[0ma\u001b[0m\u001b[0;34m(\u001b[0m\u001b[0mself\u001b[0m\u001b[0;34m,\u001b[0m \u001b[0mvalue\u001b[0m\u001b[0;34m)\u001b[0m\u001b[0;34m:\u001b[0m\u001b[0;34m\u001b[0m\u001b[0;34m\u001b[0m\u001b[0m\n\u001b[0;32m---> 16\u001b[0;31m         \u001b[0;32massert\u001b[0m \u001b[0misinstance\u001b[0m\u001b[0;34m(\u001b[0m\u001b[0mvalue\u001b[0m\u001b[0;34m,\u001b[0m \u001b[0;34m(\u001b[0m\u001b[0mint\u001b[0m\u001b[0;34m,\u001b[0m \u001b[0mfloat\u001b[0m\u001b[0;34m)\u001b[0m\u001b[0;34m)\u001b[0m\u001b[0;34m,\u001b[0m \u001b[0;34m'must be float or int'\u001b[0m\u001b[0;34m\u001b[0m\u001b[0;34m\u001b[0m\u001b[0m\n\u001b[0m\u001b[1;32m     17\u001b[0m         \u001b[0mself\u001b[0m\u001b[0;34m.\u001b[0m\u001b[0m_a\u001b[0m \u001b[0;34m=\u001b[0m \u001b[0mvalue\u001b[0m\u001b[0;34m\u001b[0m\u001b[0;34m\u001b[0m\u001b[0m\n\u001b[1;32m     18\u001b[0m \u001b[0;34m\u001b[0m\u001b[0m\n",
      "\u001b[0;31mAssertionError\u001b[0m: must be float or int"
     ]
    }
   ],
   "source": [
    "test2 = Test(1, 'asdf')\n",
    "\n",
    "print(test2.a)\n",
    "print(test2.b)\n",
    "\n",
    "test2.a = 'asdf'"
   ]
  },
  {
   "cell_type": "code",
   "execution_count": 12,
   "metadata": {},
   "outputs": [
    {
     "name": "stdout",
     "output_type": "stream",
     "text": [
      "4\n"
     ]
    }
   ],
   "source": [
    "test2.a = 4\n",
    "\n",
    "# now a has a new value\n",
    "print(test2.a)"
   ]
  },
  {
   "cell_type": "markdown",
   "metadata": {},
   "source": [
    "## Incorporating decorators into our dog class"
   ]
  },
  {
   "cell_type": "code",
   "execution_count": 13,
   "metadata": {},
   "outputs": [],
   "source": [
    "class Dog:\n",
    "    \n",
    "    species = 'mammal'\n",
    "\n",
    "    def __init__(self, name, age, gender): \n",
    "        \n",
    "        # example of checking types for arguments passed\n",
    "        # do not use type(name) == str, \n",
    "        # but the isinstance method works with inheritance\n",
    "        assert isinstance(name, str)\n",
    "        assert isinstance(age, (int, float))\n",
    "        assert gender in ('m', 'f', 'o')\n",
    "        \n",
    "        self._name = name\n",
    "        self._age = age\n",
    "        self._gender = gender\n",
    "        self._tricks = []\n",
    "        \n",
    "    @property\n",
    "    def name(self):\n",
    "        return self._name\n",
    "    \n",
    "    @property\n",
    "    def age(self):\n",
    "        return self._age\n",
    "    \n",
    "    @property\n",
    "    def gender(self):\n",
    "        return self._gender\n",
    "    \n",
    "    @property\n",
    "    def tricks(self):\n",
    "        return self._tricks\n",
    "        \n",
    "    def add_trick(self, trick):\n",
    "        self.tricks.append(trick)\n",
    "        \n",
    "    def update_age(self, age):\n",
    "        self._age = age"
   ]
  },
  {
   "cell_type": "code",
   "execution_count": 14,
   "metadata": {},
   "outputs": [
    {
     "name": "stdout",
     "output_type": "stream",
     "text": [
      "6\n"
     ]
    },
    {
     "ename": "AttributeError",
     "evalue": "can't set attribute",
     "output_type": "error",
     "traceback": [
      "\u001b[0;31m---------------------------------------------------------------------------\u001b[0m",
      "\u001b[0;31mAttributeError\u001b[0m                            Traceback (most recent call last)",
      "\u001b[0;32m<ipython-input-14-c57e2f936dae>\u001b[0m in \u001b[0;36m<module>\u001b[0;34m\u001b[0m\n\u001b[1;32m      4\u001b[0m \u001b[0mprint\u001b[0m\u001b[0;34m(\u001b[0m\u001b[0mmydog\u001b[0m\u001b[0;34m.\u001b[0m\u001b[0mage\u001b[0m\u001b[0;34m)\u001b[0m\u001b[0;34m\u001b[0m\u001b[0;34m\u001b[0m\u001b[0m\n\u001b[1;32m      5\u001b[0m \u001b[0;31m# you cannot update by just reassigning\u001b[0m\u001b[0;34m\u001b[0m\u001b[0;34m\u001b[0m\u001b[0;34m\u001b[0m\u001b[0m\n\u001b[0;32m----> 6\u001b[0;31m \u001b[0mmydog\u001b[0m\u001b[0;34m.\u001b[0m\u001b[0mage\u001b[0m \u001b[0;34m=\u001b[0m \u001b[0;36m6\u001b[0m\u001b[0;34m\u001b[0m\u001b[0;34m\u001b[0m\u001b[0m\n\u001b[0m",
      "\u001b[0;31mAttributeError\u001b[0m: can't set attribute"
     ]
    }
   ],
   "source": [
    "mydog = Dog('Jojo', 5, 'm')\n",
    "# update age\n",
    "mydog.update_age(6)\n",
    "print(mydog.age)\n",
    "# you cannot update by just reassigning\n",
    "mydog.age = 6"
   ]
  },
  {
   "cell_type": "markdown",
   "metadata": {},
   "source": [
    "# RETURN TO HOMEWORK"
   ]
  },
  {
   "cell_type": "markdown",
   "metadata": {
    "slideshow": {
     "slide_type": "slide"
    }
   },
   "source": [
    "### 1d) Create 3 dogs with various characteristics, and assign them different tricks"
   ]
  },
  {
   "cell_type": "code",
   "execution_count": 15,
   "metadata": {
    "slideshow": {
     "slide_type": "fragment"
    }
   },
   "outputs": [],
   "source": [
    "dog1 = Dog('Luke', 5, 'm')\n",
    "dog1.add_trick('swing a lightsaber')\n",
    "dog1.add_trick('bark \"NOOOOOOOO\"')\n",
    "dog2 = Dog('Leia', 5, 'f')\n",
    "dog2.add_trick('lead a rebellion')\n",
    "dog2.add_trick('acquire the best diss track')\n",
    "dog3 = Dog('Han', 6, 'm')\n",
    "dog3.add_trick('shoot first')"
   ]
  },
  {
   "cell_type": "markdown",
   "metadata": {
    "slideshow": {
     "slide_type": "slide"
    }
   },
   "source": [
    "### 1e) Create a method/function `print_summary` for the Dog class that prints all the relevant data and tricks"
   ]
  },
  {
   "cell_type": "code",
   "execution_count": 19,
   "metadata": {
    "slideshow": {
     "slide_type": "subslide"
    }
   },
   "outputs": [],
   "source": [
    "class Dog:\n",
    "    \n",
    "    species = 'mammal'\n",
    "\n",
    "    def __init__(self, name, age, gender): \n",
    "        \n",
    "        # example of checking types for arguments passed\n",
    "        # do not use type(name) == str, \n",
    "        # but the isinstance method works with inheritance\n",
    "        assert isinstance(name, str)\n",
    "        assert isinstance(age, (int, float))\n",
    "        assert gender in ('m', 'f', 'o')\n",
    "        \n",
    "        self.name = name\n",
    "        self.age = age\n",
    "        self.gender = gender\n",
    "        self.tricks = []\n",
    "        \n",
    "    def add_trick(self, trick):\n",
    "        self.tricks.append(trick)\n",
    "        \n",
    "    def update_age(self, age):\n",
    "        self.age = age\n",
    "        \n",
    "    def print_summary(self):\n",
    "        # select pronoun\n",
    "        pronoun = {\n",
    "            'm':'he', \n",
    "            'f':'she', \n",
    "        }.get(self.gender, 'they')\n",
    "        # create tricks string\n",
    "        tricks = ' and '.join(self.tricks)\n",
    "        # print\n",
    "        print((\n",
    "            \"{0} is a good dog. At \"\n",
    "            \"the young age of {1}, {2} can {3}.\"\n",
    "        ).format(self.name, self.age, pronoun, tricks))"
   ]
  },
  {
   "cell_type": "code",
   "execution_count": 20,
   "metadata": {
    "slideshow": {
     "slide_type": "subslide"
    }
   },
   "outputs": [
    {
     "name": "stdout",
     "output_type": "stream",
     "text": [
      "Luke is a good dog. At the young age of 5, he can swing a lightsaber and bark \"NOOOOOOOO\".\n",
      "Leia is a good dog. At the young age of 5, she can lead a rebellion and acquire the best diss track.\n",
      "Han is a good dog. At the young age of 6, he can shoot first.\n"
     ]
    }
   ],
   "source": [
    "dog1 = Dog('Luke', 5, 'm')\n",
    "dog1.add_trick('swing a lightsaber')\n",
    "dog1.add_trick('bark \"NOOOOOOOO\"')\n",
    "dog2 = Dog('Leia', 5, 'f')\n",
    "dog2.add_trick('lead a rebellion')\n",
    "dog2.add_trick('acquire the best diss track')\n",
    "dog3 = Dog('Han', 6, 'm')\n",
    "dog3.add_trick('shoot first')\n",
    "dogs = [dog1, dog2, dog3]\n",
    "\n",
    "for d in dogs:\n",
    "    d.print_summary()"
   ]
  },
  {
   "cell_type": "markdown",
   "metadata": {},
   "source": [
    "# <font color=green>2. Umweg</font>: \"Magic\" methods\n",
    "\n",
    "* What are built-in methods?\n",
    "* Why do I want to use them?\n",
    "* Give me some examples!"
   ]
  },
  {
   "cell_type": "markdown",
   "metadata": {},
   "source": [
    "## What are built-in methods?\n",
    "\n",
    "What are magic methods? They're everything in object-oriented Python. They're special methods that you can define to add \"magic\" to your classes. They're always surrounded by double underscores (e.g. `__init__` or `__lt__`).\n",
    "\n",
    "Each magic method has defined way of working within the Python interpreter. For example, the `__init__` is used during initialization. \n",
    "\n",
    "There many ways that a \"magic\" method has already been applied without you noticing."
   ]
  },
  {
   "cell_type": "markdown",
   "metadata": {},
   "source": [
    "## Why do I want to use magic?\n",
    "\n",
    "Let's take an example of a magic method in use:\n",
    "```python\n",
    "a = YourClass('a')\n",
    "b = YourClass('b')\n",
    "```\n",
    "Let's say you want to compare your two instances `a` and `b` to see if they equal each other. That is you want to use `==` as you would do for an native Python object:\n",
    "```\n",
    "float1 = 1.0\n",
    "float2 = 2.0\n",
    "float1 == float2 # this will return False\n",
    "```\n",
    "\n",
    "The `==` symbol is implemented by the magic `__eq__` method. \n",
    "So in `YourClass` you would need to implement a method called `__eq__` that accepts one other argument besides self, which is the other objects it is being compared to:\n",
    "```python\n",
    "class YourClass:\n",
    "    \n",
    "    def __init__(self, name):\n",
    "        self.name = name\n",
    "    \n",
    "    def __eq__(self, other):\n",
    "        return (\n",
    "            isinstance(other, self.__class__) \n",
    "            and (self.name == other.name)\n",
    "        )\n",
    "```\n",
    "\n",
    "Basically you can use the magic methods to define how your class should act when you for example use the `+`, `-`, or other built-in symbols or when you use built-in functions like `print`. This can give your class some operations that may make your code more efficient and/or easier to read. "
   ]
  },
  {
   "cell_type": "markdown",
   "metadata": {},
   "source": [
    "## Give me examples!"
   ]
  },
  {
   "cell_type": "code",
   "execution_count": 25,
   "metadata": {},
   "outputs": [],
   "source": [
    "class YourClass:\n",
    "\n",
    "    def __init__(self, name):\n",
    "        self.name = name\n",
    "\n",
    "    def __eq__(self, other):\n",
    "        return (\n",
    "            isinstance(other, self.__class__) \n",
    "            and (self.name == other.name)\n",
    "        )"
   ]
  },
  {
   "cell_type": "code",
   "execution_count": 26,
   "metadata": {},
   "outputs": [
    {
     "data": {
      "text/plain": [
       "['__class__',\n",
       " '__delattr__',\n",
       " '__dict__',\n",
       " '__dir__',\n",
       " '__doc__',\n",
       " '__eq__',\n",
       " '__format__',\n",
       " '__ge__',\n",
       " '__getattribute__',\n",
       " '__gt__',\n",
       " '__hash__',\n",
       " '__init__',\n",
       " '__init_subclass__',\n",
       " '__le__',\n",
       " '__lt__',\n",
       " '__module__',\n",
       " '__ne__',\n",
       " '__new__',\n",
       " '__reduce__',\n",
       " '__reduce_ex__',\n",
       " '__repr__',\n",
       " '__setattr__',\n",
       " '__sizeof__',\n",
       " '__str__',\n",
       " '__subclasshook__',\n",
       " '__weakref__']"
      ]
     },
     "execution_count": 26,
     "metadata": {},
     "output_type": "execute_result"
    }
   ],
   "source": [
    "dir(YourClass)\n",
    "# some magic methods have a default implementation"
   ]
  },
  {
   "cell_type": "code",
   "execution_count": 27,
   "metadata": {},
   "outputs": [
    {
     "name": "stdout",
     "output_type": "stream",
     "text": [
      "False\n",
      "True\n",
      "False\n",
      "False\n"
     ]
    }
   ],
   "source": [
    "a = YourClass('a')\n",
    "b = YourClass('b')\n",
    "c = YourClass('a')\n",
    "\n",
    "print(a == b)\n",
    "print(a == c)\n",
    "print(a == 1)\n",
    "print(a == 'a')"
   ]
  },
  {
   "cell_type": "markdown",
   "metadata": {},
   "source": [
    "#### Let's add a string method instead of a print_summary method to our Dog class"
   ]
  },
  {
   "cell_type": "code",
   "execution_count": 21,
   "metadata": {},
   "outputs": [],
   "source": [
    "class Dog:\n",
    "    \n",
    "    species = 'mammal'\n",
    "\n",
    "    def __init__(self, name, age, gender): \n",
    "        \n",
    "        # example of checking types for arguments passed\n",
    "        # do not use type(name) == str, \n",
    "        # but the isinstance method works with inheritance\n",
    "        assert isinstance(name, str)\n",
    "        assert isinstance(age, (int, float))\n",
    "        assert gender in ('m', 'f', 'o')\n",
    "        \n",
    "        self.name = name\n",
    "        self.age = age\n",
    "        self.gender = gender\n",
    "        self.tricks = []\n",
    "        \n",
    "    def add_trick(self, trick):\n",
    "        self.tricks.append(trick)\n",
    "        \n",
    "    def update_age(self, age):\n",
    "        self.age = age\n",
    "        \n",
    "    def __str__(self):\n",
    "        # select pronoun\n",
    "        pronoun = {\n",
    "            'm':'he', \n",
    "            'f':'she', \n",
    "        }.get(self.gender, 'they')\n",
    "        # create tricks string\n",
    "        tricks = ' and '.join(self.tricks)\n",
    "        # return string\n",
    "        return (\n",
    "            \"{0} is a good boy. At \"\n",
    "            \"the young age of {1}, {2} can {3}.\"\n",
    "        ).format(self.name, self.age, pronoun, tricks)"
   ]
  },
  {
   "cell_type": "code",
   "execution_count": 22,
   "metadata": {},
   "outputs": [
    {
     "name": "stdout",
     "output_type": "stream",
     "text": [
      "Luke is a good boy. At the young age of 5, he can swing a lightsaber and bark \"NOOOOOOOO\".\n"
     ]
    }
   ],
   "source": [
    "dog1 = Dog('Luke', 5, 'm')\n",
    "dog1.add_trick('swing a lightsaber')\n",
    "dog1.add_trick('bark \"NOOOOOOOO\"')\n",
    "print(dog1)"
   ]
  },
  {
   "cell_type": "markdown",
   "metadata": {},
   "source": [
    "## More advanced example: Let's build a polynomial class\n",
    "Example from: https://www.python-course.eu/polynomial_class_in_python.php\n",
    "\n",
    "$P(x) = a_{n}x^{n}+a_{n-1}x^{n-1}+\\dotsb +a_{2}x^{2}+a_{1}x+a_{0}$\n",
    "\n",
    "![alt text](static/polynomials.png)"
   ]
  },
  {
   "cell_type": "code",
   "execution_count": 23,
   "metadata": {},
   "outputs": [],
   "source": [
    "# this is a built-in package in python\n",
    "from itertools import zip_longest\n",
    "\n",
    "# do not focus too much what each method is doing\n",
    "# but that you can define these magic functions and use\n",
    "# +, -, (), and len because of it\n",
    "class Polynomial:\n",
    "    \n",
    "    def __init__(self, *coefficients):\n",
    "        \"\"\" \n",
    "        coefficients are in the form a_n, ...a_1, a_0 \n",
    "        \"\"\"\n",
    "        self.coefficients = list(coefficients) # tuple is turned into a list\n",
    "            \n",
    "    def __call__(self, x):    \n",
    "        res = 0\n",
    "        for coeff in self.coefficients:\n",
    "            res = res * x + coeff\n",
    "        return res \n",
    "    \n",
    "    def __str__(self):\n",
    "        \"\"\"string representation of polynomial\"\"\"\n",
    "        return self.__class__.__name__ + str(self.coefficients)\n",
    "    \n",
    "    def __len__(self):\n",
    "        return len(self.coefficients) - 1  \n",
    "            \n",
    "    def __add__(self, other):\n",
    "        c1 = self.coefficients[::-1]\n",
    "        c2 = other.coefficients[::-1]\n",
    "        res = [sum(t) for t in zip_longest(c1, c2, fillvalue=0)]\n",
    "        return self.__class__(*res[::-1])\n",
    "    \n",
    "    def __sub__(self, other):\n",
    "        c1 = self.coefficients[::-1]\n",
    "        c2 = other.coefficients[::-1]\n",
    "        \n",
    "        res = [t1-t2 for t1, t2 in zip_longest(c1, c2, fillvalue=0)]\n",
    "        return self.__class__(*res[::-1])"
   ]
  },
  {
   "cell_type": "code",
   "execution_count": 24,
   "metadata": {},
   "outputs": [
    {
     "name": "stdout",
     "output_type": "stream",
     "text": [
      "nicely printing polynomials\n",
      "Polynomial[1, 2, 3]\n",
      "Polynomial[2, 3]\n",
      "\n",
      "\n",
      "length of polynomials\n",
      "2\n",
      "1\n",
      "\n",
      "\n",
      "call on polynomials to evaluates for a particular x\n",
      "6\n",
      "[    3     6    11    18    27    38    51    66    83   102   123   146\n",
      "   171   198   227   258   291   326   363   402   443   486   531   578\n",
      "   627   678   731   786   843   902   963  1026  1091  1158  1227  1298\n",
      "  1371  1446  1523  1602  1683  1766  1851  1938  2027  2118  2211  2306\n",
      "  2403  2502  2603  2706  2811  2918  3027  3138  3251  3366  3483  3602\n",
      "  3723  3846  3971  4098  4227  4358  4491  4626  4763  4902  5043  5186\n",
      "  5331  5478  5627  5778  5931  6086  6243  6402  6563  6726  6891  7058\n",
      "  7227  7398  7571  7746  7923  8102  8283  8466  8651  8838  9027  9218\n",
      "  9411  9606  9803 10002]\n",
      "\n",
      "\n",
      "adding and subtracting polynomials\n",
      "Polynomial[1, 4, 6]\n",
      "Polynomial[1, 2, 3]\n"
     ]
    }
   ],
   "source": [
    "pol1 = Polynomial(1, 2, 3)\n",
    "pol2 = Polynomial(2, 3)\n",
    "\n",
    "print('nicely printing polynomials')\n",
    "print(pol1)\n",
    "print(pol2)\n",
    "print('\\n') # these are just line break\n",
    "\n",
    "print('length of polynomials')\n",
    "print(len(pol1))\n",
    "print(len(pol2))\n",
    "print('\\n')\n",
    "\n",
    "print('call on polynomials to evaluates for a particular x')\n",
    "print(pol1(1))\n",
    "print(pol1(np.arange(100)))\n",
    "print('\\n')\n",
    "\n",
    "print('adding and subtracting polynomials')\n",
    "pol3 = pol1 + pol2\n",
    "pol4 = pol3 - pol2\n",
    "print(pol3)\n",
    "print(pol4)"
   ]
  },
  {
   "cell_type": "markdown",
   "metadata": {},
   "source": [
    "Take a look at all the magic functions that exist: https://rszalski.github.io/magicmethods/ !!!\n",
    "\n",
    "You can basically customize every aspect of how your class works, even how it should get attributes in the class or you can define how it should index or set an index."
   ]
  },
  {
   "cell_type": "markdown",
   "metadata": {},
   "source": [
    "## Other things not mentioned, but that are also useful to know\n",
    "* lambda functions (see https://realpython.com/python-lambda/)\n",
    "* abstract base classes (see https://pymotw.com/2/abc/)\n",
    "* async (https://realpython.com/async-io-python/)\n",
    "* multiple inheritance/mixin classes (see https://realpython.com/inheritance-composition-python/)"
   ]
  },
  {
   "cell_type": "markdown",
   "metadata": {},
   "source": [
    "# E.g. Remember inheritance \n",
    "\n",
    "With inheritance, you can inherit all the methods from the parent class and write new or overwrite old methods. "
   ]
  },
  {
   "cell_type": "code",
   "execution_count": 25,
   "metadata": {},
   "outputs": [
    {
     "name": "stdout",
     "output_type": "stream",
     "text": [
      "Barry runs at a speed of 100km/h\n",
      "Flash runs at a speed of 1000km/h\n",
      "Hulk begrudgingly runs at a speed of 3km/h\n"
     ]
    }
   ],
   "source": [
    "class RussellTerrier(Dog):\n",
    "    def run(self, speed):\n",
    "        return \"{} runs at a speed of {}km/h\".format(self.name, speed)\n",
    "    \n",
    "class SuperRussellTerrier(RussellTerrier):\n",
    "    def run(self, speed):\n",
    "        return super().run(speed * 10)\n",
    "\n",
    "class Bulldog(Dog):\n",
    "    def run(self, speed):\n",
    "        return \"{} begrudgingly runs at a speed of {}km/h\".format(self.name, speed)\n",
    "    \n",
    "dog1 = RussellTerrier('Barry', age=100, gender='m')\n",
    "dog2 = SuperRussellTerrier('Flash', age=100, gender='f')\n",
    "dog3 = Bulldog('Hulk', age=20, gender='m')\n",
    "\n",
    "print(dog1.run(100))\n",
    "print(dog2.run(100))\n",
    "print(dog3.run(3))"
   ]
  },
  {
   "cell_type": "code",
   "execution_count": null,
   "metadata": {},
   "outputs": [],
   "source": []
  }
 ],
 "metadata": {
  "kernelspec": {
   "display_name": "Python 3",
   "language": "python",
   "name": "python3"
  },
  "language_info": {
   "codemirror_mode": {
    "name": "ipython",
    "version": 3
   },
   "file_extension": ".py",
   "mimetype": "text/x-python",
   "name": "python",
   "nbconvert_exporter": "python",
   "pygments_lexer": "ipython3",
   "version": "3.7.7"
  }
 },
 "nbformat": 4,
 "nbformat_minor": 4
}
